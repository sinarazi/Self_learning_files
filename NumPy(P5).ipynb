{
  "nbformat": 4,
  "nbformat_minor": 0,
  "metadata": {
    "colab": {
      "name": "NumPy(P5).ipynb",
      "provenance": [],
      "collapsed_sections": [],
      "authorship_tag": "ABX9TyNuhkhkDHYyw3K7ui1aPgCE",
      "include_colab_link": true
    },
    "kernelspec": {
      "name": "python3",
      "display_name": "Python 3"
    },
    "language_info": {
      "name": "python"
    }
  },
  "cells": [
    {
      "cell_type": "markdown",
      "metadata": {
        "id": "view-in-github",
        "colab_type": "text"
      },
      "source": [
        "<a href=\"https://colab.research.google.com/github/sinarazi/Self_learning_files/blob/main/NumPy(P5).ipynb\" target=\"_parent\"><img src=\"https://colab.research.google.com/assets/colab-badge.svg\" alt=\"Open In Colab\"/></a>"
      ]
    },
    {
      "cell_type": "markdown",
      "source": [
        "# Part 5\n",
        "Let's recap :)"
      ],
      "metadata": {
        "id": "WYyizKt6FOZN"
      }
    },
    {
      "cell_type": "code",
      "source": [
        "import numpy as np"
      ],
      "metadata": {
        "id": "LshTmsgQFENO"
      },
      "execution_count": 1,
      "outputs": []
    },
    {
      "cell_type": "code",
      "source": [
        "# lets define simple numpy array\n",
        "a = np.arange(6)\n",
        "a2 = a[np.newaxis, :]\n",
        "a2.shape"
      ],
      "metadata": {
        "colab": {
          "base_uri": "https://localhost:8080/"
        },
        "id": "bnpdGIySFY4K",
        "outputId": "36e09a8c-b1e0-42b5-d5a4-976ea17062cf"
      },
      "execution_count": 3,
      "outputs": [
        {
          "output_type": "execute_result",
          "data": {
            "text/plain": [
              "(1, 6)"
            ]
          },
          "metadata": {},
          "execution_count": 3
        }
      ]
    },
    {
      "cell_type": "markdown",
      "source": [
        "## Why numpy rathar than python?\n",
        "Numpy package provides state-of-the-art mathmatcial methods so as to be developed in statistics, linear algebra and many other things. In comparison with python, it is really fast, and somehow handle the python's slow pace when it comes to heavy parallel calculations  "
      ],
      "metadata": {
        "id": "Jc3y8pvRFn3F"
      }
    },
    {
      "cell_type": "markdown",
      "source": [
        "# How to create an array from existing data"
      ],
      "metadata": {
        "id": "Id0Qgl91mtQb"
      }
    },
    {
      "cell_type": "markdown",
      "source": [
        "### numpy.asarray\n",
        "\n",
        "This appraoch is used to create an array by using the existing data in the form of lists, or tuples. This routine is useful in the scenario where we need to convert a python sequence into the numpy array object.\n",
        "\n",
        "The syntax to use the asarray() routine is given below.\n",
        "\n",
        "```numpy.asarray(sequence,  dtype = None, order = None)  ```\n",
        "\n",
        "It accepts the following parameters.\n",
        "\n",
        "1) sequence: It is the python sequence which is to be converted into the python array.\n",
        "\n",
        "2)dtype: It is the data type of each item of the array.\n",
        "\n",
        "3)order: It can be set to C or F. The default is "
      ],
      "metadata": {
        "id": "mzhv8Qw2G6G_"
      }
    },
    {
      "cell_type": "code",
      "source": [
        "import numpy as np  \n",
        "\n",
        "l = [1, 2, 3, 4, 5, 6, 7]  \n",
        "a = np.asarray(l);  \n",
        "print(type(a))  \n",
        "print(a) \n",
        "\n",
        "#------------------------------------\n",
        "\n",
        "l1 = [[1, 2, 3, 4, 5, 6, 7],[8, 9]]  \n",
        "a1 = np.asarray(l1);  \n",
        "print(type(a1))  \n",
        "print(a)  "
      ],
      "metadata": {
        "colab": {
          "base_uri": "https://localhost:8080/"
        },
        "id": "vJC_Zj8iIJGx",
        "outputId": "b8360967-6f6d-4e06-bae7-70fd00c27234"
      },
      "execution_count": 15,
      "outputs": [
        {
          "output_type": "stream",
          "name": "stdout",
          "text": [
            "<class 'numpy.ndarray'>\n",
            "[1 2 3 4 5 6 7]\n",
            "<class 'numpy.ndarray'>\n",
            "[1 2 3 4 5 6 7]\n"
          ]
        },
        {
          "output_type": "stream",
          "name": "stderr",
          "text": [
            "/usr/local/lib/python3.7/dist-packages/ipykernel_launcher.py:11: VisibleDeprecationWarning: Creating an ndarray from ragged nested sequences (which is a list-or-tuple of lists-or-tuples-or ndarrays with different lengths or shapes) is deprecated. If you meant to do this, you must specify 'dtype=object' when creating the ndarray.\n",
            "  # This is added back by InteractiveShellApp.init_path()\n"
          ]
        }
      ]
    },
    {
      "cell_type": "markdown",
      "source": [
        "### numpy.frombuffer\n",
        "This function is used to create an array by using the specified buffer. The syntax to use this buffer is given below.\n",
        "\n",
        "```numpy.frombuffer(buffer, dtype = float, count = -1, offset = 0)```  \n",
        "It accepts the following parameters.\n",
        "\n",
        "- buffer: It represents an object that exposes a buffer interface.\n",
        "- dtype: It represents the data type of the returned data type array. The default value is 0.\n",
        "- count: It represents the length of the returned ndarray. The default value is -1.\n",
        "- offset: It represents the starting position to read from. The default value is 0."
      ],
      "metadata": {
        "id": "DDayGiMBIjBW"
      }
    },
    {
      "cell_type": "code",
      "source": [
        "l = b'hello world'  \n",
        "print(type(l))  \n",
        "a = np.frombuffer(l, dtype = \"S1\")  \n",
        "print(a)  \n",
        "print(type(a)) "
      ],
      "metadata": {
        "colab": {
          "base_uri": "https://localhost:8080/"
        },
        "id": "Mb7uB19UI2DJ",
        "outputId": "a3339191-80de-4330-e323-d9e537809f90"
      },
      "execution_count": 6,
      "outputs": [
        {
          "output_type": "stream",
          "name": "stdout",
          "text": [
            "<class 'bytes'>\n",
            "[b'h' b'e' b'l' b'l' b'o' b' ' b'w' b'o' b'r' b'l' b'd']\n",
            "<class 'numpy.ndarray'>\n"
          ]
        }
      ]
    },
    {
      "cell_type": "markdown",
      "source": [
        "### numpy.fromiter\n",
        "This routine is used to create a ndarray by using an iterable object. It returns a one-dimensional ndarray object.\n",
        "\n",
        "The syntax is given below.\n",
        "\n",
        "```numpy.fromiter(iterable, dtype, count = - 1)  ```\n",
        "\n",
        "It accepts the following parameters.\n",
        "\n",
        "- Iterable: It represents an iterable object.\n",
        "- dtype: It represents the data type of the resultant array items.\n",
        "- count: It represents the number of items to read from the buffer in the array."
      ],
      "metadata": {
        "id": "k4Nmwa74JUqN"
      }
    },
    {
      "cell_type": "code",
      "source": [
        "list = [0, 2, 4, 6]  \n",
        "it = iter(list)  \n",
        "x = np.fromiter(it, dtype = float)  \n",
        "print(x)  \n",
        "print(type(x))  "
      ],
      "metadata": {
        "id": "m5pV33J8Jf4G",
        "outputId": "79a77d2b-ffa5-4403-eee3-7ddf3102b2a9",
        "colab": {
          "base_uri": "https://localhost:8080/"
        }
      },
      "execution_count": 7,
      "outputs": [
        {
          "output_type": "stream",
          "name": "stdout",
          "text": [
            "[0. 2. 4. 6.]\n",
            "<class 'numpy.ndarray'>\n"
          ]
        }
      ]
    },
    {
      "cell_type": "markdown",
      "source": [
        "## Let's make a new numpy array from existing array :)\n",
        "\n",
        "These methods ```np.vstack(), np.hstack(), np.hsplit(), .view(), copy()``` will be covered in this part.\n",
        "\n",
        "let's define an array as below."
      ],
      "metadata": {
        "id": "sFS62a26KWMw"
      }
    },
    {
      "cell_type": "code",
      "source": [
        "a = np.array([1,  2,  3,  4,  5,  6,  7,  8,  9, 10])\n",
        "# the index that you wanna slice your array should be defined\n",
        "arr1 = a[3:8]\n",
        "arr1"
      ],
      "metadata": {
        "id": "3koVvLikK1mI",
        "outputId": "a7205315-b3ed-40b7-9eaf-0c7192c8fe1e",
        "colab": {
          "base_uri": "https://localhost:8080/"
        }
      },
      "execution_count": 10,
      "outputs": [
        {
          "output_type": "execute_result",
          "data": {
            "text/plain": [
              "array([4, 5, 6, 7, 8])"
            ]
          },
          "metadata": {},
          "execution_count": 10
        }
      ]
    },
    {
      "cell_type": "code",
      "source": [
        "# let's define two other numpy array\n",
        "a1 = np.array([[1, 1],\n",
        "               [2, 2]])\n",
        "\n",
        "a2 = np.array([[3, 3],\n",
        "               [4, 4]])"
      ],
      "metadata": {
        "id": "-VkJ_assK5G9"
      },
      "execution_count": 11,
      "outputs": []
    },
    {
      "cell_type": "markdown",
      "source": [
        "These two arrays can comforatably be stacked by these methods.\n",
        "\n",
        "- ```np.vstack()``` : You can stack them vertically with vstack\n",
        "\n",
        "- ```np.hstack() ``` : Or stack them horizontally with hstack"
      ],
      "metadata": {
        "id": "fvmA3nJOLgFg"
      }
    },
    {
      "cell_type": "code",
      "source": [
        "np.vstack((a1, a2)) # vertical stack"
      ],
      "metadata": {
        "id": "SII3Z63BL6xI",
        "outputId": "0394e932-81f2-4d47-8325-89864b3e9358",
        "colab": {
          "base_uri": "https://localhost:8080/"
        }
      },
      "execution_count": 13,
      "outputs": [
        {
          "output_type": "execute_result",
          "data": {
            "text/plain": [
              "array([[1, 1],\n",
              "       [2, 2],\n",
              "       [3, 3],\n",
              "       [4, 4]])"
            ]
          },
          "metadata": {},
          "execution_count": 13
        }
      ]
    },
    {
      "cell_type": "code",
      "source": [
        "np.hstack((a1, a2)) # horizontal stack|"
      ],
      "metadata": {
        "id": "5LR--u2WMHCI",
        "outputId": "16e02860-fb99-4caf-e998-319e519b76c6",
        "colab": {
          "base_uri": "https://localhost:8080/"
        }
      },
      "execution_count": 14,
      "outputs": [
        {
          "output_type": "execute_result",
          "data": {
            "text/plain": [
              "array([[1, 1, 3, 3],\n",
              "       [2, 2, 4, 4]])"
            ]
          },
          "metadata": {},
          "execution_count": 14
        }
      ]
    },
    {
      "cell_type": "markdown",
      "source": [
        "## Basic array operations"
      ],
      "metadata": {
        "id": "brpB87zzm3YA"
      }
    },
    {
      "cell_type": "markdown",
      "source": [
        "## Broadcasting"
      ],
      "metadata": {
        "id": "rBbd6Lmom4Jq"
      }
    },
    {
      "cell_type": "markdown",
      "source": [
        "## More useful array operations"
      ],
      "metadata": {
        "id": "yw8v4zaLm_Rc"
      }
    },
    {
      "cell_type": "markdown",
      "source": [
        "## Acknowledgement:\n",
        "Thanks for your stata-of-the-art documents\n",
        "- [Numpy](https://numpy.org/doc/stable/user/absolute_beginners.html)\n",
        "- [javatpoint](https://www.javatpoint.com/numpy-array-from-existing-data)"
      ],
      "metadata": {
        "id": "U55kuysHmTiV"
      }
    },
    {
      "cell_type": "code",
      "source": [
        ""
      ],
      "metadata": {
        "id": "bbTIofcdmfS7"
      },
      "execution_count": null,
      "outputs": []
    }
  ]
}